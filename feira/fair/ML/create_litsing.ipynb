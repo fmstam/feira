{
 "cells": [
  {
   "cell_type": "markdown",
   "metadata": {},
   "source": [
    "Create random listing to populate the database."
   ]
  },
  {
   "cell_type": "code",
   "execution_count": 6,
   "metadata": {},
   "outputs": [
    {
     "ename": "SyntaxError",
     "evalue": "unterminated string literal (detected at line 13) (2735048578.py, line 13)",
     "output_type": "error",
     "traceback": [
      "\u001b[0;36m  File \u001b[0;32m\"/tmp/ipykernel_44220/2735048578.py\"\u001b[0;36m, line \u001b[0;32m13\u001b[0m\n\u001b[0;31m    'data_folders': {'Dress': dress', 'Shirt': 'shirt', 'toptee':'toptee'}\u001b[0m\n\u001b[0m                                                                        ^\u001b[0m\n\u001b[0;31mSyntaxError\u001b[0m\u001b[0;31m:\u001b[0m unterminated string literal (detected at line 13)\n"
     ]
    }
   ],
   "source": []
  },
  {
   "cell_type": "code",
   "execution_count": null,
   "metadata": {},
   "outputs": [],
   "source": [
    "\n",
    "def create_listings(data_path,\n",
    "                    data_folders,\n",
    "                    n_listings,\n",
    "                    princes,\n",
    "                    unique):\n",
    "\n",
    "    for cate, folder in data_folders.items():\n",
    "        files = glob(f'{data_path}{os.sep}{data_folders}')\n",
    "        category = Category.objects.get(name=cate)\n",
    "        for file in files:\n",
    "            listing = Listing(title=cate, \n",
    "                              price=)"
   ]
  },
  {
   "cell_type": "code",
   "execution_count": null,
   "metadata": {},
   "outputs": [],
   "source": [
    "\n",
    "\n",
    "\n",
    "\n",
    "\n",
    "\n",
    "\n",
    "\n"
   ]
  }
 ],
 "metadata": {
  "interpreter": {
   "hash": "86160b651e38eb46543a79598b9bc63d2846eca65905a8b0778a66b6739c3bc7"
  },
  "kernelspec": {
   "display_name": "Python 3 (ipykernel)",
   "language": "python",
   "name": "python3"
  },
  "language_info": {
   "codemirror_mode": {
    "name": "ipython",
    "version": 3
   },
   "file_extension": ".py",
   "mimetype": "text/x-python",
   "name": "python",
   "nbconvert_exporter": "python",
   "pygments_lexer": "ipython3",
   "version": "3.9.7"
  }
 },
 "nbformat": 4,
 "nbformat_minor": 2
}
