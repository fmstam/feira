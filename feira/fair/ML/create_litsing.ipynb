{
 "cells": [
  {
   "cell_type": "markdown",
   "metadata": {},
   "source": [
    "Create random listing to populate the database."
   ]
  },
  {
   "cell_type": "code",
   "execution_count": null,
   "metadata": {},
   "outputs": [],
   "source": [
    "import os\n",
    "import glob\n",
    "from datetime import datetime    \n",
    "\n",
    "from ..models import Listing, Category"
   ]
  },
  {
   "cell_type": "code",
   "execution_count": null,
   "metadata": {},
   "outputs": [],
   "source": [
    "# setup\n",
    "setup = {'data_path' : \"/home/ftam/Downloads/clothing-dataset-small-master/dataset\",\n",
    "        'data_folders': {'Dress': dress', 'Shirt': 'shirt', 'toptee':'toptee'}\n",
    "        'n_listings': 300,\n",
    "        'prices': range(5, 120, 5),\n",
    "        'unique': True,\n",
    "        'extension': 'jpeg'\n",
    "        }"
   ]
  },
  {
   "cell_type": "code",
   "execution_count": null,
   "metadata": {},
   "outputs": [],
   "source": [
    "def create_listings(data_path,\n",
    "                    data_folders,\n",
    "                    n_listings,\n",
    "                    princes,\n",
    "                    unique):\n",
    "\n",
    "    for cate, folder in data_folders.items():\n",
    "        files = glob(f'{data_path}{os.sep}{data_folders}')\n",
    "        category = Category.objects.get(name=cate)\n",
    "        for file in files:\n",
    "            listing = Listing(title=cate, \n",
    "                              price=)\n",
    "\n",
    "\n",
    "\n",
    "\n",
    "\n",
    "\n",
    "\n"
   ]
  }
 ],
 "metadata": {
  "interpreter": {
   "hash": "86160b651e38eb46543a79598b9bc63d2846eca65905a8b0778a66b6739c3bc7"
  },
  "kernelspec": {
   "display_name": "Python 3.10.0 64-bit ('webenv': conda)",
   "name": "python3"
  },
  "language_info": {
   "name": "python",
   "version": "3.10.0"
  },
  "orig_nbformat": 4
 },
 "nbformat": 4,
 "nbformat_minor": 2
}
